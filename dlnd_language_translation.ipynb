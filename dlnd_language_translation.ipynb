{
 "cells": [
  {
   "cell_type": "markdown",
   "metadata": {
    "collapsed": true
   },
   "source": [
    "# Language Translation\n",
    "In this project, you’re going to take a peek into the realm of neural network machine translation.  You’ll be training a sequence to sequence model on a dataset of English and French sentences that can translate new sentences from English to French.\n",
    "## Get the Data\n",
    "Since translating the whole language of English to French will take lots of time to train, we have provided you with a small portion of the English corpus."
   ]
  },
  {
   "cell_type": "code",
   "execution_count": 1,
   "metadata": {
    "collapsed": true
   },
   "outputs": [],
   "source": [
    "\"\"\"\n",
    "DON'T MODIFY ANYTHING IN THIS CELL\n",
    "\"\"\"\n",
    "import helper\n",
    "import problem_unittests as tests\n",
    "\n",
    "source_path = 'data/small_vocab_en'\n",
    "target_path = 'data/small_vocab_fr'\n",
    "source_text = helper.load_data(source_path)\n",
    "target_text = helper.load_data(target_path)"
   ]
  },
  {
   "cell_type": "markdown",
   "metadata": {},
   "source": [
    "## Explore the Data\n",
    "Play around with view_sentence_range to view different parts of the data."
   ]
  },
  {
   "cell_type": "code",
   "execution_count": 2,
   "metadata": {},
   "outputs": [
    {
     "name": "stdout",
     "output_type": "stream",
     "text": [
      "Dataset Stats\n",
      "Roughly the number of unique words: 227\n",
      "Number of sentences: 137861\n",
      "Average number of words in a sentence: 13.225277634719028\n",
      "\n",
      "English sentences 0 to 10:\n",
      "new jersey is sometimes quiet during autumn , and it is snowy in april .\n",
      "the united states is usually chilly during july , and it is usually freezing in november .\n",
      "california is usually quiet during march , and it is usually hot in june .\n",
      "the united states is sometimes mild during june , and it is cold in september .\n",
      "your least liked fruit is the grape , but my least liked is the apple .\n",
      "his favorite fruit is the orange , but my favorite is the grape .\n",
      "paris is relaxing during december , but it is usually chilly in july .\n",
      "new jersey is busy during spring , and it is never hot in march .\n",
      "our least liked fruit is the lemon , but my least liked is the grape .\n",
      "the united states is sometimes busy during january , and it is sometimes warm in november .\n",
      "\n",
      "French sentences 0 to 10:\n",
      "new jersey est parfois calme pendant l' automne , et il est neigeux en avril .\n",
      "les états-unis est généralement froid en juillet , et il gèle habituellement en novembre .\n",
      "california est généralement calme en mars , et il est généralement chaud en juin .\n",
      "les états-unis est parfois légère en juin , et il fait froid en septembre .\n",
      "votre moins aimé fruit est le raisin , mais mon moins aimé est la pomme .\n",
      "son fruit préféré est l'orange , mais mon préféré est le raisin .\n",
      "paris est relaxant en décembre , mais il est généralement froid en juillet .\n",
      "new jersey est occupé au printemps , et il est jamais chaude en mars .\n",
      "notre fruit est moins aimé le citron , mais mon moins aimé est le raisin .\n",
      "les états-unis est parfois occupé en janvier , et il est parfois chaud en novembre .\n"
     ]
    }
   ],
   "source": [
    "view_sentence_range = (0, 10)\n",
    "\n",
    "\"\"\"\n",
    "DON'T MODIFY ANYTHING IN THIS CELL\n",
    "\"\"\"\n",
    "import numpy as np\n",
    "\n",
    "print('Dataset Stats')\n",
    "print('Roughly the number of unique words: {}'.format(len({word: None for word in source_text.split()})))\n",
    "\n",
    "sentences = source_text.split('\\n')\n",
    "word_counts = [len(sentence.split()) for sentence in sentences]\n",
    "print('Number of sentences: {}'.format(len(sentences)))\n",
    "print('Average number of words in a sentence: {}'.format(np.average(word_counts)))\n",
    "\n",
    "print()\n",
    "print('English sentences {} to {}:'.format(*view_sentence_range))\n",
    "print('\\n'.join(source_text.split('\\n')[view_sentence_range[0]:view_sentence_range[1]]))\n",
    "print()\n",
    "print('French sentences {} to {}:'.format(*view_sentence_range))\n",
    "print('\\n'.join(target_text.split('\\n')[view_sentence_range[0]:view_sentence_range[1]]))"
   ]
  },
  {
   "cell_type": "markdown",
   "metadata": {},
   "source": [
    "## Implement Preprocessing Function\n",
    "### Text to Word Ids\n",
    "As you did with other RNNs, you must turn the text into a number so the computer can understand it. In the function `text_to_ids()`, you'll turn `source_text` and `target_text` from words to ids.  However, you need to add the `<EOS>` word id at the end of `target_text`.  This will help the neural network predict when the sentence should end.\n",
    "\n",
    "You can get the `<EOS>` word id by doing:\n",
    "```python\n",
    "target_vocab_to_int['<EOS>']\n",
    "```\n",
    "You can get other word ids using `source_vocab_to_int` and `target_vocab_to_int`."
   ]
  },
  {
   "cell_type": "code",
   "execution_count": 3,
   "metadata": {},
   "outputs": [
    {
     "name": "stdout",
     "output_type": "stream",
     "text": [
      "Tests Passed\n"
     ]
    }
   ],
   "source": [
    "def text_to_ids(source_text, target_text, source_vocab_to_int, target_vocab_to_int):\n",
    "    \"\"\"\n",
    "    Convert source and target text to proper word ids\n",
    "    :param source_text: String that contains all the source text.\n",
    "    :param target_text: String that contains all the target text.\n",
    "    :param source_vocab_to_int: Dictionary to go from the source words to an id\n",
    "    :param target_vocab_to_int: Dictionary to go from the target words to an id\n",
    "    :return: A tuple of lists (source_id_text, target_id_text)\n",
    "    \"\"\"\n",
    "    source_lines = [line for line in source_text.split('\\n')]\n",
    "    target_lines = [line + ' <EOS>' for line in target_text.split('\\n')]\n",
    "    \n",
    "    source_id_text = [[source_vocab_to_int[word] for word in line.split()] for line in source_lines]\n",
    "    target_id_text = [[target_vocab_to_int[word] for word in line.split()] for line in target_lines]\n",
    "    \n",
    "    return source_id_text, target_id_text\n",
    "\n",
    "\"\"\"\n",
    "DON'T MODIFY ANYTHING IN THIS CELL THAT IS BELOW THIS LINE\n",
    "\"\"\"\n",
    "tests.test_text_to_ids(text_to_ids)"
   ]
  },
  {
   "cell_type": "markdown",
   "metadata": {},
   "source": [
    "### Preprocess all the data and save it\n",
    "Running the code cell below will preprocess all the data and save it to file."
   ]
  },
  {
   "cell_type": "code",
   "execution_count": 4,
   "metadata": {
    "collapsed": true
   },
   "outputs": [],
   "source": [
    "\"\"\"\n",
    "DON'T MODIFY ANYTHING IN THIS CELL\n",
    "\"\"\"\n",
    "helper.preprocess_and_save_data(source_path, target_path, text_to_ids)"
   ]
  },
  {
   "cell_type": "markdown",
   "metadata": {},
   "source": [
    "# Check Point\n",
    "This is your first checkpoint. If you ever decide to come back to this notebook or have to restart the notebook, you can start from here. The preprocessed data has been saved to disk."
   ]
  },
  {
   "cell_type": "code",
   "execution_count": 5,
   "metadata": {
    "collapsed": true
   },
   "outputs": [],
   "source": [
    "\"\"\"\n",
    "DON'T MODIFY ANYTHING IN THIS CELL\n",
    "\"\"\"\n",
    "import numpy as np\n",
    "import helper\n",
    "\n",
    "(source_int_text, target_int_text), (source_vocab_to_int, target_vocab_to_int), _ = helper.load_preprocess()"
   ]
  },
  {
   "cell_type": "markdown",
   "metadata": {},
   "source": [
    "### Check the Version of TensorFlow and Access to GPU\n",
    "This will check to make sure you have the correct version of TensorFlow and access to a GPU"
   ]
  },
  {
   "cell_type": "code",
   "execution_count": 6,
   "metadata": {},
   "outputs": [
    {
     "name": "stdout",
     "output_type": "stream",
     "text": [
      "TensorFlow Version: 1.1.0\n"
     ]
    },
    {
     "name": "stderr",
     "output_type": "stream",
     "text": [
      "/Users/khalukurike/deeplearning/anaconda2/envs/py3/lib/python3.6/site-packages/ipykernel_launcher.py:15: UserWarning: No GPU found. Please use a GPU to train your neural network.\n",
      "  from ipykernel import kernelapp as app\n"
     ]
    }
   ],
   "source": [
    "\"\"\"\n",
    "DON'T MODIFY ANYTHING IN THIS CELL\n",
    "\"\"\"\n",
    "from distutils.version import LooseVersion\n",
    "import warnings\n",
    "import tensorflow as tf\n",
    "from tensorflow.python.layers.core import Dense\n",
    "\n",
    "# Check TensorFlow Version\n",
    "assert LooseVersion(tf.__version__) >= LooseVersion('1.1'), 'Please use TensorFlow version 1.1 or newer'\n",
    "print('TensorFlow Version: {}'.format(tf.__version__))\n",
    "\n",
    "# Check for a GPU\n",
    "if not tf.test.gpu_device_name():\n",
    "    warnings.warn('No GPU found. Please use a GPU to train your neural network.')\n",
    "else:\n",
    "    print('Default GPU Device: {}'.format(tf.test.gpu_device_name()))"
   ]
  },
  {
   "cell_type": "markdown",
   "metadata": {},
   "source": [
    "## Build the Neural Network\n",
    "You'll build the components necessary to build a Sequence-to-Sequence model by implementing the following functions below:\n",
    "- `model_inputs`\n",
    "- `process_decoder_input`\n",
    "- `encoding_layer`\n",
    "- `decoding_layer_train`\n",
    "- `decoding_layer_infer`\n",
    "- `decoding_layer`\n",
    "- `seq2seq_model`\n",
    "\n",
    "### Input\n",
    "Implement the `model_inputs()` function to create TF Placeholders for the Neural Network. It should create the following placeholders:\n",
    "\n",
    "- Input text placeholder named \"input\" using the TF Placeholder name parameter with rank 2.\n",
    "- Targets placeholder with rank 2.\n",
    "- Learning rate placeholder with rank 0.\n",
    "- Keep probability placeholder named \"keep_prob\" using the TF Placeholder name parameter with rank 0.\n",
    "- Target sequence length placeholder named \"target_sequence_length\" with rank 1\n",
    "- Max target sequence length tensor named \"max_target_len\" getting its value from applying tf.reduce_max on the target_sequence_length placeholder. Rank 0.\n",
    "- Source sequence length placeholder named \"source_sequence_length\" with rank 1\n",
    "\n",
    "Return the placeholders in the following the tuple (input, targets, learning rate, keep probability, target sequence length, max target sequence length, source sequence length)"
   ]
  },
  {
   "cell_type": "code",
   "execution_count": 9,
   "metadata": {},
   "outputs": [
    {
     "name": "stdout",
     "output_type": "stream",
     "text": [
      "Tests Passed\n"
     ]
    }
   ],
   "source": [
    "def model_inputs():\n",
    "    \"\"\"\n",
    "    Create TF Placeholders for input, targets, learning rate, and lengths of source and target sequences.\n",
    "    :return: Tuple (input, targets, learning rate, keep probability, target sequence length,\n",
    "    max target sequence length, source sequence length)\n",
    "    \"\"\"\n",
    "    input = tf.placeholder(tf.int32, (None, None), name='input')\n",
    "    targets = tf.placeholder(tf.int32, (None, None), name='targets')\n",
    "    learning_rate = tf.placeholder(tf.float32, name='learning_rate')\n",
    "    keep_probability = tf.placeholder(tf.float32, name='keep_prob')\n",
    "    target_sequence_length = tf.placeholder(tf.int32, [None], name=\"target_sequence_length\")\n",
    "    max_target_sequence_length = tf.reduce_max(target_sequence_length)\n",
    "    source_sequence_length = tf.placeholder(tf.int32, [None], name=\"source_sequence_length\")\n",
    "\n",
    "    return input, targets, learning_rate, keep_probability, target_sequence_length, max_target_sequence_length, source_sequence_length\n",
    "\n",
    "\n",
    "\"\"\"\n",
    "DON'T MODIFY ANYTHING IN THIS CELL THAT IS BELOW THIS LINE\n",
    "\"\"\"\n",
    "tests.test_model_inputs(model_inputs)"
   ]
  },
  {
   "cell_type": "markdown",
   "metadata": {},
   "source": [
    "### Process Decoder Input\n",
    "Implement `process_decoder_input` by removing the last word id from each batch in `target_data` and concat the GO ID to the begining of each batch."
   ]
  },
  {
   "cell_type": "code",
   "execution_count": 10,
   "metadata": {},
   "outputs": [
    {
     "name": "stdout",
     "output_type": "stream",
     "text": [
      "Tests Passed\n"
     ]
    }
   ],
   "source": [
    "def process_decoder_input(target_data, target_vocab_to_int, batch_size):\n",
    "    \"\"\"\n",
    "    Preprocess target data for encoding\n",
    "    :param target_data: Target Placehoder\n",
    "    :param target_vocab_to_int: Dictionary to go from the target words to an id\n",
    "    :param batch_size: Batch Size\n",
    "    :return: Preprocessed target data\n",
    "    \"\"\"\n",
    "    last_word = tf.strided_slice(target_data, [0, 0], [batch_size, -1], [1, 1])\n",
    "    return tf.concat([tf.fill([batch_size, 1], target_vocab_to_int['<GO>']), last_word], 1)\n",
    "\n",
    "\"\"\"\n",
    "DON'T MODIFY ANYTHING IN THIS CELL THAT IS BELOW THIS LINE\n",
    "\"\"\"\n",
    "tests.test_process_encoding_input(process_decoder_input)"
   ]
  },
  {
   "cell_type": "markdown",
   "metadata": {},
   "source": [
    "### Encoding\n",
    "Implement `encoding_layer()` to create a Encoder RNN layer:\n",
    " * Embed the encoder input using [`tf.contrib.layers.embed_sequence`](https://www.tensorflow.org/api_docs/python/tf/contrib/layers/embed_sequence)\n",
    " * Construct a [stacked](https://github.com/tensorflow/tensorflow/blob/6947f65a374ebf29e74bb71e36fd82760056d82c/tensorflow/docs_src/tutorials/recurrent.md#stacking-multiple-lstms) [`tf.contrib.rnn.LSTMCell`](https://www.tensorflow.org/api_docs/python/tf/contrib/rnn/LSTMCell) wrapped in a [`tf.contrib.rnn.DropoutWrapper`](https://www.tensorflow.org/api_docs/python/tf/contrib/rnn/DropoutWrapper)\n",
    " * Pass cell and embedded input to [`tf.nn.dynamic_rnn()`](https://www.tensorflow.org/api_docs/python/tf/nn/dynamic_rnn)"
   ]
  },
  {
   "cell_type": "code",
   "execution_count": 31,
   "metadata": {
    "scrolled": false
   },
   "outputs": [
    {
     "name": "stdout",
     "output_type": "stream",
     "text": [
      "Tests Passed\n"
     ]
    }
   ],
   "source": [
    "from imp import reload\n",
    "reload(tests)\n",
    "\n",
    "def encoding_layer(rnn_inputs, rnn_size, num_layers, keep_prob, \n",
    "                   source_sequence_length, source_vocab_size, \n",
    "                   encoding_embedding_size):\n",
    "    \"\"\"\n",
    "    Create encoding layer\n",
    "    :param rnn_inputs: Inputs for the RNN\n",
    "    :param rnn_size: RNN Size\n",
    "    :param num_layers: Number of layers\n",
    "    :param keep_prob: Dropout keep probability\n",
    "    :param source_sequence_length: a list of the lengths of each sequence in the batch\n",
    "    :param source_vocab_size: vocabulary size of source data\n",
    "    :param encoding_embedding_size: embedding size of source data\n",
    "    :return: tuple (RNN output, RNN state)\n",
    "    \"\"\"\n",
    "    encode_inputs = tf.contrib.layers.embed_sequence(rnn_inputs, source_vocab_size, encoding_embedding_size)\n",
    "    cell = tf.contrib.rnn.MultiRNNCell([tf.contrib.rnn.LSTMCell(rnn_size) for _ in range(num_layers) ])\n",
    "    encode_output, encode_state = tf.nn.dynamic_rnn(cell, encode_inputs, sequence_length=source_sequence_length, dtype=tf.float32)\n",
    "    return encode_output, encode_state\n",
    "\n",
    "\"\"\"\n",
    "DON'T MODIFY ANYTHING IN THIS CELL THAT IS BELOW THIS LINE\n",
    "\"\"\"\n",
    "tests.test_encoding_layer(encoding_layer)"
   ]
  },
  {
   "cell_type": "markdown",
   "metadata": {},
   "source": [
    "### Decoding - Training\n",
    "Create a training decoding layer:\n",
    "* Create a [`tf.contrib.seq2seq.TrainingHelper`](https://www.tensorflow.org/api_docs/python/tf/contrib/seq2seq/TrainingHelper) \n",
    "* Create a [`tf.contrib.seq2seq.BasicDecoder`](https://www.tensorflow.org/api_docs/python/tf/contrib/seq2seq/BasicDecoder)\n",
    "* Obtain the decoder outputs from [`tf.contrib.seq2seq.dynamic_decode`](https://www.tensorflow.org/api_docs/python/tf/contrib/seq2seq/dynamic_decode)"
   ]
  },
  {
   "cell_type": "code",
   "execution_count": 32,
   "metadata": {},
   "outputs": [
    {
     "name": "stdout",
     "output_type": "stream",
     "text": [
      "Tests Passed\n"
     ]
    }
   ],
   "source": [
    "\n",
    "def decoding_layer_train(encoder_state, dec_cell, dec_embed_input, \n",
    "                         target_sequence_length, max_summary_length, \n",
    "                         output_layer, keep_prob):\n",
    "    \"\"\"\n",
    "    Create a decoding layer for training\n",
    "    :param encoder_state: Encoder State\n",
    "    :param dec_cell: Decoder RNN Cell\n",
    "    :param dec_embed_input: Decoder embedded input\n",
    "    :param target_sequence_length: The lengths of each sequence in the target batch\n",
    "    :param max_summary_length: The length of the longest sequence in the batch\n",
    "    :param output_layer: Function to apply the output layer\n",
    "    :param keep_prob: Dropout keep probability\n",
    "    :return: BasicDecoderOutput containing training logits and sample_id\n",
    "    \"\"\"\n",
    "    training_helper = tf.contrib.seq2seq.TrainingHelper(dec_embed_input, target_sequence_length)\n",
    "    decoder = tf.contrib.seq2seq.BasicDecoder(dec_cell, training_helper, encoder_state, output_layer=output_layer)\n",
    "    decode_outputs, decode_state = tf.contrib.seq2seq.dynamic_decode(decoder, impute_finished=True, maximum_iterations=max_summary_length)\n",
    "    return decode_outputs\n",
    "\n",
    "\n",
    "\"\"\"\n",
    "DON'T MODIFY ANYTHING IN THIS CELL THAT IS BELOW THIS LINE\n",
    "\"\"\"\n",
    "tests.test_decoding_layer_train(decoding_layer_train)"
   ]
  },
  {
   "cell_type": "markdown",
   "metadata": {},
   "source": [
    "### Decoding - Inference\n",
    "Create inference decoder:\n",
    "* Create a [`tf.contrib.seq2seq.GreedyEmbeddingHelper`](https://www.tensorflow.org/api_docs/python/tf/contrib/seq2seq/GreedyEmbeddingHelper)\n",
    "* Create a [`tf.contrib.seq2seq.BasicDecoder`](https://www.tensorflow.org/api_docs/python/tf/contrib/seq2seq/BasicDecoder)\n",
    "* Obtain the decoder outputs from [`tf.contrib.seq2seq.dynamic_decode`](https://www.tensorflow.org/api_docs/python/tf/contrib/seq2seq/dynamic_decode)"
   ]
  },
  {
   "cell_type": "code",
   "execution_count": 35,
   "metadata": {
    "scrolled": true
   },
   "outputs": [
    {
     "name": "stdout",
     "output_type": "stream",
     "text": [
      "Tests Passed\n"
     ]
    }
   ],
   "source": [
    "def decoding_layer_infer(encoder_state, dec_cell, dec_embeddings, start_of_sequence_id,\n",
    "                         end_of_sequence_id, max_target_sequence_length,\n",
    "                         vocab_size, output_layer, batch_size, keep_prob):\n",
    "    \"\"\"\n",
    "    Create a decoding layer for inference\n",
    "    :param encoder_state: Encoder state\n",
    "    :param dec_cell: Decoder RNN Cell\n",
    "    :param dec_embeddings: Decoder embeddings\n",
    "    :param start_of_sequence_id: GO ID\n",
    "    :param end_of_sequence_id: EOS Id\n",
    "    :param max_target_sequence_length: Maximum length of target sequences\n",
    "    :param vocab_size: Size of decoder/target vocabulary\n",
    "    :param decoding_scope: TenorFlow Variable Scope for decoding\n",
    "    :param output_layer: Function to apply the output layer\n",
    "    :param batch_size: Batch size\n",
    "    :param keep_prob: Dropout keep probability\n",
    "    :return: BasicDecoderOutput containing inference logits and sample_id\n",
    "    \"\"\"\n",
    "\n",
    "    start_tokens = tf.tile(tf.constant([start_of_sequence_id], dtype=tf.int32), [batch_size], name='start_tokens')\n",
    "    helper = tf.contrib.seq2seq.GreedyEmbeddingHelper(dec_embeddings, start_tokens, end_of_sequence_id)\n",
    "    decoder = tf.contrib.seq2seq.BasicDecoder(dec_cell, helper, encoder_state, output_layer=output_layer)\n",
    "    decode_outputs, decode_state = tf.contrib.seq2seq.dynamic_decode(decoder, impute_finished=True, maximum_iterations=max_target_sequence_length)\n",
    "    return decode_outputs\n",
    "\n",
    "\n",
    "\"\"\"\n",
    "DON'T MODIFY ANYTHING IN THIS CELL THAT IS BELOW THIS LINE\n",
    "\"\"\"\n",
    "tests.test_decoding_layer_infer(decoding_layer_infer)"
   ]
  },
  {
   "cell_type": "markdown",
   "metadata": {},
   "source": [
    "### Build the Decoding Layer\n",
    "Implement `decoding_layer()` to create a Decoder RNN layer.\n",
    "\n",
    "* Embed the target sequences\n",
    "* Construct the decoder LSTM cell (just like you constructed the encoder cell above)\n",
    "* Create an output layer to map the outputs of the decoder to the elements of our vocabulary\n",
    "* Use the your `decoding_layer_train(encoder_state, dec_cell, dec_embed_input, target_sequence_length, max_target_sequence_length, output_layer, keep_prob)` function to get the training logits.\n",
    "* Use your `decoding_layer_infer(encoder_state, dec_cell, dec_embeddings, start_of_sequence_id, end_of_sequence_id, max_target_sequence_length, vocab_size, output_layer, batch_size, keep_prob)` function to get the inference logits.\n",
    "\n",
    "Note: You'll need to use [tf.variable_scope](https://www.tensorflow.org/api_docs/python/tf/variable_scope) to share variables between training and inference."
   ]
  },
  {
   "cell_type": "code",
   "execution_count": 44,
   "metadata": {},
   "outputs": [
    {
     "name": "stdout",
     "output_type": "stream",
     "text": [
      "Tests Passed\n"
     ]
    }
   ],
   "source": [
    "from tensorflow.python.layers import core\n",
    "def decoding_layer(dec_input, encoder_state,\n",
    "                   target_sequence_length, max_target_sequence_length,\n",
    "                   rnn_size,\n",
    "                   num_layers, target_vocab_to_int, target_vocab_size,\n",
    "                   batch_size, keep_prob, decoding_embedding_size):\n",
    "    \"\"\"\n",
    "    Create decoding layer\n",
    "    :param dec_input: Decoder input\n",
    "    :param encoder_state: Encoder state\n",
    "    :param target_sequence_length: The lengths of each sequence in the target batch\n",
    "    :param max_target_sequence_length: Maximum length of target sequences\n",
    "    :param rnn_size: RNN Size\n",
    "    :param num_layers: Number of layers\n",
    "    :param target_vocab_to_int: Dictionary to go from the target words to an id\n",
    "    :param target_vocab_size: Size of target vocabulary\n",
    "    :param batch_size: The size of the batch\n",
    "    :param keep_prob: Dropout keep probability\n",
    "    :param decoding_embedding_size: Decoding embedding size\n",
    "    :return: Tuple of (Training BasicDecoderOutput, Inference BasicDecoderOutput)\n",
    "    \"\"\"\n",
    "#     decoding_embeddings = tf.Variable(tf.random_uniform([target_vocab_size, decoding_embedding_size]))\n",
    "#     decoding_embed_input = tf.nn.embedding_lookup(decoding_embeddings, dec_input)\n",
    "\n",
    "#     decoding_cell = tf.contrib.rnn.MultiRNNCell([tf.contrib.rnn.LSTMCell(rnn_size) for _ in range(num_layers) ])\n",
    "    \n",
    "#     output_layer = core.Dense(target_vocab_size, tf.truncated_normal_initializer(0.0, 0.1))\n",
    "    \n",
    "#     with tf.variable_scope(\"decoding\") as decoding_scope:\n",
    "#         decoding_outputs_training = decoding_layer_train(encoder_state, \n",
    "#                                                          decoding_cell, \n",
    "#                                                          decoding_embed_input, \n",
    "#                                                          target_sequence_length, \n",
    "#                                                          max_target_sequence_length,\n",
    "#                                                          output_layer, \n",
    "#                                                          keep_prob)\n",
    "#     # decoder inference\n",
    "#     with tf.variable_scope(\"decoding\", reuse=True) as decoding_scope:\n",
    "#         decoding_outputs_infererence = decoding_layer_infer(encoder_state, \n",
    "#                                                           decoding_cell, \n",
    "#                                                           decoding_embeddings, \n",
    "#                                                           target_vocab_to_int[\"<GO>\"],\n",
    "#                                                           target_vocab_to_int[\"<EOS>\"], \n",
    "#                                                           max_target_sequence_length,\n",
    "#                                                           target_vocab_size, \n",
    "#                                                           output_layer, \n",
    "#                                                           batch_size, \n",
    "#                                                           keep_prob)\n",
    "#     # rerturn\n",
    "#     return decoding_outputs_training, decoding_outputs_infererence\n",
    "\n",
    "    # embedding target sequence\n",
    "    decoding_embeddings = tf.Variable(tf.random_uniform([target_vocab_size, decoding_embedding_size]))\n",
    "    decoding_embed_input = tf.nn.embedding_lookup(decoding_embeddings, dec_input)\n",
    "\n",
    "    decoding_cell = tf.contrib.rnn.MultiRNNCell([tf.contrib.rnn.LSTMCell(rnn_size) for _ in range(num_layers) ])\n",
    "\n",
    "    output_layer = core.Dense(target_vocab_size, kernel_initializer = tf.truncated_normal_initializer(0.0, 0.1))\n",
    "\n",
    "    with tf.variable_scope(\"decoding\") as decoding_scope:\n",
    "        decoding_outputs_training = decoding_layer_train(encoder_state, \n",
    "                                                         decoding_cell, \n",
    "                                                         decoding_embed_input, \n",
    "                                                         target_sequence_length,\n",
    "                                                         max_target_sequence_length, \n",
    "                                                         output_layer, \n",
    "                                                         keep_prob)\n",
    "        \n",
    "\n",
    "    with tf.variable_scope(\"decoding\", reuse=True) as decoding_scope:\n",
    "        decoding_outputs_infererence = decoding_layer_infer(encoder_state, \n",
    "                                                            decoding_cell, \n",
    "                                                            decoding_embeddings,\n",
    "                                                            target_vocab_to_int[\"<GO>\"],\n",
    "                                                            target_vocab_to_int[\"<EOS>\"], \n",
    "                                                            max_target_sequence_length,\n",
    "                                                            target_vocab_size, \n",
    "                                                            output_layer,\n",
    "                                                            batch_size,\n",
    "                                                            keep_prob)\n",
    "\n",
    "    return decoding_outputs_training, decoding_outputs_infererence\n",
    "\n",
    "\"\"\"\n",
    "DON'T MODIFY ANYTHING IN THIS CELL THAT IS BELOW THIS LINE\n",
    "\"\"\"\n",
    "tests.test_decoding_layer(decoding_layer)"
   ]
  },
  {
   "cell_type": "markdown",
   "metadata": {},
   "source": [
    "### Build the Neural Network\n",
    "Apply the functions you implemented above to:\n",
    "\n",
    "- Encode the input using your `encoding_layer(rnn_inputs, rnn_size, num_layers, keep_prob,  source_sequence_length, source_vocab_size, encoding_embedding_size)`.\n",
    "- Process target data using your `process_decoder_input(target_data, target_vocab_to_int, batch_size)` function.\n",
    "- Decode the encoded input using your `decoding_layer(dec_input, enc_state, target_sequence_length, max_target_sentence_length, rnn_size, num_layers, target_vocab_to_int, target_vocab_size, batch_size, keep_prob, dec_embedding_size)` function."
   ]
  },
  {
   "cell_type": "code",
   "execution_count": 45,
   "metadata": {},
   "outputs": [
    {
     "name": "stdout",
     "output_type": "stream",
     "text": [
      "Tests Passed\n"
     ]
    }
   ],
   "source": [
    "def seq2seq_model(input_data, target_data, keep_prob, batch_size,\n",
    "                  source_sequence_length, target_sequence_length,\n",
    "                  max_target_sentence_length,\n",
    "                  source_vocab_size, target_vocab_size,\n",
    "                  enc_embedding_size, dec_embedding_size,\n",
    "                  rnn_size, num_layers, target_vocab_to_int):\n",
    "    \"\"\"\n",
    "    Build the Sequence-to-Sequence part of the neural network\n",
    "    :param input_data: Input placeholder\n",
    "    :param target_data: Target placeholder\n",
    "    :param keep_prob: Dropout keep probability placeholder\n",
    "    :param batch_size: Batch Size\n",
    "    :param source_sequence_length: Sequence Lengths of source sequences in the batch\n",
    "    :param target_sequence_length: Sequence Lengths of target sequences in the batch\n",
    "    :param source_vocab_size: Source vocabulary size\n",
    "    :param target_vocab_size: Target vocabulary size\n",
    "    :param enc_embedding_size: Decoder embedding size\n",
    "    :param dec_embedding_size: Encoder embedding size\n",
    "    :param rnn_size: RNN Size\n",
    "    :param num_layers: Number of layers\n",
    "    :param target_vocab_to_int: Dictionary to go from the target words to an id\n",
    "    :return: Tuple of (Training BasicDecoderOutput, Inference BasicDecoderOutput)\n",
    "    \"\"\"\n",
    "    encoding_output, encoding_state = encoding_layer(input_data, \n",
    "                                                     rnn_size, \n",
    "                                                     num_layers,\n",
    "                                                     keep_prob, \n",
    "                                                     source_sequence_length,\n",
    "                                                     source_vocab_size, \n",
    "                                                     enc_embedding_size)\n",
    "    \n",
    "    decoding_input = process_decoder_input(target_data, target_vocab_to_int, batch_size) \n",
    "\n",
    "    decoding_outputs_training, decoding_outputs_infererence = decoding_layer(decoding_input, \n",
    "                                                                             encoding_state,\n",
    "                                                                             target_sequence_length, \n",
    "                                                                             tf.reduce_max(target_sequence_length),\n",
    "                                                                             rnn_size,\n",
    "                                                                             num_layers, \n",
    "                                                                             target_vocab_to_int, \n",
    "                                                                             target_vocab_size,\n",
    "                                                                             batch_size, \n",
    "                                                                             keep_prob, \n",
    "                                                                             dec_embedding_size)\n",
    "    \n",
    "    return decoding_outputs_training, decoding_outputs_infererence\n",
    "\n",
    "\"\"\"\n",
    "DON'T MODIFY ANYTHING IN THIS CELL THAT IS BELOW THIS LINE\n",
    "\"\"\"\n",
    "tests.test_seq2seq_model(seq2seq_model)"
   ]
  },
  {
   "cell_type": "markdown",
   "metadata": {},
   "source": [
    "## Neural Network Training\n",
    "### Hyperparameters\n",
    "Tune the following parameters:\n",
    "\n",
    "- Set `epochs` to the number of epochs.\n",
    "- Set `batch_size` to the batch size.\n",
    "- Set `rnn_size` to the size of the RNNs.\n",
    "- Set `num_layers` to the number of layers.\n",
    "- Set `encoding_embedding_size` to the size of the embedding for the encoder.\n",
    "- Set `decoding_embedding_size` to the size of the embedding for the decoder.\n",
    "- Set `learning_rate` to the learning rate.\n",
    "- Set `keep_probability` to the Dropout keep probability\n",
    "- Set `display_step` to state how many steps between each debug output statement"
   ]
  },
  {
   "cell_type": "code",
   "execution_count": 57,
   "metadata": {
    "collapsed": true
   },
   "outputs": [],
   "source": [
    "# Number of Epochs\n",
    "epochs = 7\n",
    "# Batch Size\n",
    "batch_size = 512\n",
    "# RNN Size\n",
    "rnn_size = 512\n",
    "# Number of Layers\n",
    "num_layers = 2\n",
    "# Embedding Size\n",
    "encoding_embedding_size = 256\n",
    "decoding_embedding_size = 256\n",
    "# Learning Rate\n",
    "learning_rate = 0.001\n",
    "# Dropout Keep Probability\n",
    "keep_probability = 0.5\n",
    "display_step = 10"
   ]
  },
  {
   "cell_type": "markdown",
   "metadata": {},
   "source": [
    "### Build the Graph\n",
    "Build the graph using the neural network you implemented."
   ]
  },
  {
   "cell_type": "code",
   "execution_count": 58,
   "metadata": {
    "collapsed": true
   },
   "outputs": [],
   "source": [
    "\"\"\"\n",
    "DON'T MODIFY ANYTHING IN THIS CELL\n",
    "\"\"\"\n",
    "save_path = 'checkpoints/dev'\n",
    "(source_int_text, target_int_text), (source_vocab_to_int, target_vocab_to_int), _ = helper.load_preprocess()\n",
    "max_target_sentence_length = max([len(sentence) for sentence in source_int_text])\n",
    "\n",
    "train_graph = tf.Graph()\n",
    "with train_graph.as_default():\n",
    "    input_data, targets, lr, keep_prob, target_sequence_length, max_target_sequence_length, source_sequence_length = model_inputs()\n",
    "\n",
    "    #sequence_length = tf.placeholder_with_default(max_target_sentence_length, None, name='sequence_length')\n",
    "    input_shape = tf.shape(input_data)\n",
    "\n",
    "    train_logits, inference_logits = seq2seq_model(tf.reverse(input_data, [-1]),\n",
    "                                                   targets,\n",
    "                                                   keep_prob,\n",
    "                                                   batch_size,\n",
    "                                                   source_sequence_length,\n",
    "                                                   target_sequence_length,\n",
    "                                                   max_target_sequence_length,\n",
    "                                                   len(source_vocab_to_int),\n",
    "                                                   len(target_vocab_to_int),\n",
    "                                                   encoding_embedding_size,\n",
    "                                                   decoding_embedding_size,\n",
    "                                                   rnn_size,\n",
    "                                                   num_layers,\n",
    "                                                   target_vocab_to_int)\n",
    "\n",
    "\n",
    "    training_logits = tf.identity(train_logits.rnn_output, name='logits')\n",
    "    inference_logits = tf.identity(inference_logits.sample_id, name='predictions')\n",
    "\n",
    "    masks = tf.sequence_mask(target_sequence_length, max_target_sequence_length, dtype=tf.float32, name='masks')\n",
    "\n",
    "    with tf.name_scope(\"optimization\"):\n",
    "        # Loss function\n",
    "        cost = tf.contrib.seq2seq.sequence_loss(\n",
    "            training_logits,\n",
    "            targets,\n",
    "            masks)\n",
    "\n",
    "        # Optimizer\n",
    "        optimizer = tf.train.AdamOptimizer(lr)\n",
    "\n",
    "        # Gradient Clipping\n",
    "        gradients = optimizer.compute_gradients(cost)\n",
    "        capped_gradients = [(tf.clip_by_value(grad, -1., 1.), var) for grad, var in gradients if grad is not None]\n",
    "        train_op = optimizer.apply_gradients(capped_gradients)\n"
   ]
  },
  {
   "cell_type": "markdown",
   "metadata": {},
   "source": [
    "Batch and pad the source and target sequences"
   ]
  },
  {
   "cell_type": "code",
   "execution_count": 59,
   "metadata": {
    "collapsed": true
   },
   "outputs": [],
   "source": [
    "\"\"\"\n",
    "DON'T MODIFY ANYTHING IN THIS CELL\n",
    "\"\"\"\n",
    "def pad_sentence_batch(sentence_batch, pad_int):\n",
    "    \"\"\"Pad sentences with <PAD> so that each sentence of a batch has the same length\"\"\"\n",
    "    max_sentence = max([len(sentence) for sentence in sentence_batch])\n",
    "    return [sentence + [pad_int] * (max_sentence - len(sentence)) for sentence in sentence_batch]\n",
    "\n",
    "\n",
    "def get_batches(sources, targets, batch_size, source_pad_int, target_pad_int):\n",
    "    \"\"\"Batch targets, sources, and the lengths of their sentences together\"\"\"\n",
    "    for batch_i in range(0, len(sources)//batch_size):\n",
    "        start_i = batch_i * batch_size\n",
    "\n",
    "        # Slice the right amount for the batch\n",
    "        sources_batch = sources[start_i:start_i + batch_size]\n",
    "        targets_batch = targets[start_i:start_i + batch_size]\n",
    "\n",
    "        # Pad\n",
    "        pad_sources_batch = np.array(pad_sentence_batch(sources_batch, source_pad_int))\n",
    "        pad_targets_batch = np.array(pad_sentence_batch(targets_batch, target_pad_int))\n",
    "\n",
    "        # Need the lengths for the _lengths parameters\n",
    "        pad_targets_lengths = []\n",
    "        for target in pad_targets_batch:\n",
    "            pad_targets_lengths.append(len(target))\n",
    "\n",
    "        pad_source_lengths = []\n",
    "        for source in pad_sources_batch:\n",
    "            pad_source_lengths.append(len(source))\n",
    "\n",
    "        yield pad_sources_batch, pad_targets_batch, pad_source_lengths, pad_targets_lengths\n"
   ]
  },
  {
   "cell_type": "markdown",
   "metadata": {},
   "source": [
    "### Train\n",
    "Train the neural network on the preprocessed data. If you have a hard time getting a good loss, check the forms to see if anyone is having the same problem."
   ]
  },
  {
   "cell_type": "code",
   "execution_count": 60,
   "metadata": {
    "scrolled": true
   },
   "outputs": [
    {
     "name": "stdout",
     "output_type": "stream",
     "text": [
      "Epoch   0 Batch   10/269 - Train Accuracy: 0.3486, Validation Accuracy: 0.4082, Loss: 3.1088\n",
      "Epoch   0 Batch   20/269 - Train Accuracy: 0.3356, Validation Accuracy: 0.3842, Loss: 2.5653\n",
      "Epoch   0 Batch   30/269 - Train Accuracy: 0.4352, Validation Accuracy: 0.4639, Loss: 2.3057\n",
      "Epoch   0 Batch   40/269 - Train Accuracy: 0.4297, Validation Accuracy: 0.4759, Loss: 2.1510\n",
      "Epoch   0 Batch   50/269 - Train Accuracy: 0.4548, Validation Accuracy: 0.5046, Loss: 1.9535\n",
      "Epoch   0 Batch   60/269 - Train Accuracy: 0.4896, Validation Accuracy: 0.5015, Loss: 1.7283\n",
      "Epoch   0 Batch   70/269 - Train Accuracy: 0.4983, Validation Accuracy: 0.5035, Loss: 1.4884\n",
      "Epoch   0 Batch   80/269 - Train Accuracy: 0.4524, Validation Accuracy: 0.4782, Loss: 1.3219\n",
      "Epoch   0 Batch   90/269 - Train Accuracy: 0.4173, Validation Accuracy: 0.4991, Loss: 1.3141\n",
      "Epoch   0 Batch  100/269 - Train Accuracy: 0.5024, Validation Accuracy: 0.5022, Loss: 1.1159\n",
      "Epoch   0 Batch  110/269 - Train Accuracy: 0.4727, Validation Accuracy: 0.4939, Loss: 1.0396\n",
      "Epoch   0 Batch  120/269 - Train Accuracy: 0.4745, Validation Accuracy: 0.5190, Loss: 0.9985\n",
      "Epoch   0 Batch  130/269 - Train Accuracy: 0.5102, Validation Accuracy: 0.5502, Loss: 0.9518\n",
      "Epoch   0 Batch  140/269 - Train Accuracy: 0.5387, Validation Accuracy: 0.5351, Loss: 0.8640\n",
      "Epoch   0 Batch  150/269 - Train Accuracy: 0.5259, Validation Accuracy: 0.5323, Loss: 0.8223\n",
      "Epoch   0 Batch  160/269 - Train Accuracy: 0.5359, Validation Accuracy: 0.5526, Loss: 0.7659\n",
      "Epoch   0 Batch  170/269 - Train Accuracy: 0.5380, Validation Accuracy: 0.5527, Loss: 0.7339\n",
      "Epoch   0 Batch  180/269 - Train Accuracy: 0.5613, Validation Accuracy: 0.5674, Loss: 0.7001\n",
      "Epoch   0 Batch  190/269 - Train Accuracy: 0.5392, Validation Accuracy: 0.5640, Loss: 0.6753\n",
      "Epoch   0 Batch  200/269 - Train Accuracy: 0.5604, Validation Accuracy: 0.5794, Loss: 0.6840\n",
      "Epoch   0 Batch  210/269 - Train Accuracy: 0.5820, Validation Accuracy: 0.5811, Loss: 0.6258\n",
      "Epoch   0 Batch  220/269 - Train Accuracy: 0.5993, Validation Accuracy: 0.5886, Loss: 0.5899\n",
      "Epoch   0 Batch  230/269 - Train Accuracy: 0.5800, Validation Accuracy: 0.5964, Loss: 0.6107\n",
      "Epoch   0 Batch  240/269 - Train Accuracy: 0.6190, Validation Accuracy: 0.6024, Loss: 0.5445\n",
      "Epoch   0 Batch  250/269 - Train Accuracy: 0.5947, Validation Accuracy: 0.6115, Loss: 0.6040\n",
      "Epoch   0 Batch  260/269 - Train Accuracy: 0.5878, Validation Accuracy: 0.6183, Loss: 0.6181\n",
      "Epoch   1 Batch   10/269 - Train Accuracy: 0.6190, Validation Accuracy: 0.6294, Loss: 0.5822\n",
      "Epoch   1 Batch   20/269 - Train Accuracy: 0.6165, Validation Accuracy: 0.6365, Loss: 0.5641\n",
      "Epoch   1 Batch   30/269 - Train Accuracy: 0.6293, Validation Accuracy: 0.6326, Loss: 0.5378\n",
      "Epoch   1 Batch   40/269 - Train Accuracy: 0.6233, Validation Accuracy: 0.6464, Loss: 0.5501\n",
      "Epoch   1 Batch   50/269 - Train Accuracy: 0.6192, Validation Accuracy: 0.6313, Loss: 0.5340\n",
      "Epoch   1 Batch   60/269 - Train Accuracy: 0.6303, Validation Accuracy: 0.6345, Loss: 0.4828\n",
      "Epoch   1 Batch   70/269 - Train Accuracy: 0.6605, Validation Accuracy: 0.6478, Loss: 0.4942\n",
      "Epoch   1 Batch   80/269 - Train Accuracy: 0.6560, Validation Accuracy: 0.6505, Loss: 0.4748\n",
      "Epoch   1 Batch   90/269 - Train Accuracy: 0.6019, Validation Accuracy: 0.6365, Loss: 0.5028\n",
      "Epoch   1 Batch  100/269 - Train Accuracy: 0.6616, Validation Accuracy: 0.6483, Loss: 0.5050\n",
      "Epoch   1 Batch  110/269 - Train Accuracy: 0.6306, Validation Accuracy: 0.6422, Loss: 0.4548\n",
      "Epoch   1 Batch  120/269 - Train Accuracy: 0.6474, Validation Accuracy: 0.6645, Loss: 0.4640\n",
      "Epoch   1 Batch  130/269 - Train Accuracy: 0.6363, Validation Accuracy: 0.6598, Loss: 0.4474\n",
      "Epoch   1 Batch  140/269 - Train Accuracy: 0.6784, Validation Accuracy: 0.6697, Loss: 0.4405\n",
      "Epoch   1 Batch  150/269 - Train Accuracy: 0.6759, Validation Accuracy: 0.6777, Loss: 0.4278\n",
      "Epoch   1 Batch  160/269 - Train Accuracy: 0.6954, Validation Accuracy: 0.6965, Loss: 0.3930\n",
      "Epoch   1 Batch  170/269 - Train Accuracy: 0.6758, Validation Accuracy: 0.6855, Loss: 0.3885\n",
      "Epoch   1 Batch  180/269 - Train Accuracy: 0.7018, Validation Accuracy: 0.6799, Loss: 0.3766\n",
      "Epoch   1 Batch  190/269 - Train Accuracy: 0.7056, Validation Accuracy: 0.7078, Loss: 0.3523\n",
      "Epoch   1 Batch  200/269 - Train Accuracy: 0.6826, Validation Accuracy: 0.6823, Loss: 0.4085\n",
      "Epoch   1 Batch  210/269 - Train Accuracy: 0.7077, Validation Accuracy: 0.7083, Loss: 0.3406\n",
      "Epoch   1 Batch  220/269 - Train Accuracy: 0.7342, Validation Accuracy: 0.7177, Loss: 0.3136\n",
      "Epoch   1 Batch  230/269 - Train Accuracy: 0.7446, Validation Accuracy: 0.7357, Loss: 0.3075\n",
      "Epoch   1 Batch  240/269 - Train Accuracy: 0.7766, Validation Accuracy: 0.7496, Loss: 0.2609\n",
      "Epoch   1 Batch  250/269 - Train Accuracy: 0.7606, Validation Accuracy: 0.7525, Loss: 0.2812\n",
      "Epoch   1 Batch  260/269 - Train Accuracy: 0.7619, Validation Accuracy: 0.7635, Loss: 0.2829\n",
      "Epoch   2 Batch   10/269 - Train Accuracy: 0.7183, Validation Accuracy: 0.7289, Loss: 0.3130\n",
      "Epoch   2 Batch   20/269 - Train Accuracy: 0.7562, Validation Accuracy: 0.7717, Loss: 0.2734\n",
      "Epoch   2 Batch   30/269 - Train Accuracy: 0.8114, Validation Accuracy: 0.7914, Loss: 0.2340\n",
      "Epoch   2 Batch   40/269 - Train Accuracy: 0.8025, Validation Accuracy: 0.8042, Loss: 0.2353\n",
      "Epoch   2 Batch   50/269 - Train Accuracy: 0.8111, Validation Accuracy: 0.8109, Loss: 0.2171\n",
      "Epoch   2 Batch   60/269 - Train Accuracy: 0.8349, Validation Accuracy: 0.8152, Loss: 0.1886\n",
      "Epoch   2 Batch   70/269 - Train Accuracy: 0.8378, Validation Accuracy: 0.8200, Loss: 0.1973\n",
      "Epoch   2 Batch   80/269 - Train Accuracy: 0.8683, Validation Accuracy: 0.8345, Loss: 0.1727\n",
      "Epoch   2 Batch   90/269 - Train Accuracy: 0.8375, Validation Accuracy: 0.8367, Loss: 0.1803\n",
      "Epoch   2 Batch  100/269 - Train Accuracy: 0.8682, Validation Accuracy: 0.8526, Loss: 0.1558\n",
      "Epoch   2 Batch  110/269 - Train Accuracy: 0.8696, Validation Accuracy: 0.8620, Loss: 0.1438\n",
      "Epoch   2 Batch  120/269 - Train Accuracy: 0.8756, Validation Accuracy: 0.8746, Loss: 0.1483\n",
      "Epoch   2 Batch  130/269 - Train Accuracy: 0.8605, Validation Accuracy: 0.8623, Loss: 0.1394\n",
      "Epoch   2 Batch  140/269 - Train Accuracy: 0.8783, Validation Accuracy: 0.8723, Loss: 0.1321\n",
      "Epoch   2 Batch  150/269 - Train Accuracy: 0.8717, Validation Accuracy: 0.8886, Loss: 0.1119\n",
      "Epoch   2 Batch  160/269 - Train Accuracy: 0.8961, Validation Accuracy: 0.9051, Loss: 0.1002\n",
      "Epoch   2 Batch  170/269 - Train Accuracy: 0.8983, Validation Accuracy: 0.8985, Loss: 0.0878\n",
      "Epoch   2 Batch  180/269 - Train Accuracy: 0.9211, Validation Accuracy: 0.9045, Loss: 0.0816\n",
      "Epoch   2 Batch  190/269 - Train Accuracy: 0.9215, Validation Accuracy: 0.9094, Loss: 0.0757\n",
      "Epoch   2 Batch  200/269 - Train Accuracy: 0.9142, Validation Accuracy: 0.8999, Loss: 0.0743\n",
      "Epoch   2 Batch  210/269 - Train Accuracy: 0.9163, Validation Accuracy: 0.9179, Loss: 0.0703\n",
      "Epoch   2 Batch  220/269 - Train Accuracy: 0.9339, Validation Accuracy: 0.9146, Loss: 0.0638\n",
      "Epoch   2 Batch  230/269 - Train Accuracy: 0.9297, Validation Accuracy: 0.9122, Loss: 0.0645\n",
      "Epoch   2 Batch  240/269 - Train Accuracy: 0.9405, Validation Accuracy: 0.9179, Loss: 0.0562\n",
      "Epoch   2 Batch  250/269 - Train Accuracy: 0.9218, Validation Accuracy: 0.9153, Loss: 0.0643\n",
      "Epoch   2 Batch  260/269 - Train Accuracy: 0.9133, Validation Accuracy: 0.9226, Loss: 0.0704\n",
      "Epoch   3 Batch   10/269 - Train Accuracy: 0.9254, Validation Accuracy: 0.9232, Loss: 0.0544\n",
      "Epoch   3 Batch   20/269 - Train Accuracy: 0.9336, Validation Accuracy: 0.9276, Loss: 0.0556\n",
      "Epoch   3 Batch   30/269 - Train Accuracy: 0.9368, Validation Accuracy: 0.9275, Loss: 0.0525\n",
      "Epoch   3 Batch   40/269 - Train Accuracy: 0.9125, Validation Accuracy: 0.9315, Loss: 0.0558\n",
      "Epoch   3 Batch   50/269 - Train Accuracy: 0.9157, Validation Accuracy: 0.9232, Loss: 0.0567\n",
      "Epoch   3 Batch   60/269 - Train Accuracy: 0.9435, Validation Accuracy: 0.9351, Loss: 0.0452\n",
      "Epoch   3 Batch   70/269 - Train Accuracy: 0.9343, Validation Accuracy: 0.9388, Loss: 0.0476\n",
      "Epoch   3 Batch   80/269 - Train Accuracy: 0.9368, Validation Accuracy: 0.9325, Loss: 0.0432\n",
      "Epoch   3 Batch   90/269 - Train Accuracy: 0.9394, Validation Accuracy: 0.9317, Loss: 0.0468\n",
      "Epoch   3 Batch  100/269 - Train Accuracy: 0.9475, Validation Accuracy: 0.9468, Loss: 0.0429\n",
      "Epoch   3 Batch  110/269 - Train Accuracy: 0.9343, Validation Accuracy: 0.9292, Loss: 0.0405\n"
     ]
    },
    {
     "name": "stdout",
     "output_type": "stream",
     "text": [
      "Epoch   3 Batch  120/269 - Train Accuracy: 0.9413, Validation Accuracy: 0.9411, Loss: 0.0420\n",
      "Epoch   3 Batch  130/269 - Train Accuracy: 0.9470, Validation Accuracy: 0.9418, Loss: 0.0421\n",
      "Epoch   3 Batch  140/269 - Train Accuracy: 0.9508, Validation Accuracy: 0.9448, Loss: 0.0422\n",
      "Epoch   3 Batch  150/269 - Train Accuracy: 0.9401, Validation Accuracy: 0.9445, Loss: 0.0370\n",
      "Epoch   3 Batch  160/269 - Train Accuracy: 0.9342, Validation Accuracy: 0.9483, Loss: 0.0377\n",
      "Epoch   3 Batch  170/269 - Train Accuracy: 0.9382, Validation Accuracy: 0.9491, Loss: 0.0358\n",
      "Epoch   3 Batch  180/269 - Train Accuracy: 0.9626, Validation Accuracy: 0.9447, Loss: 0.0345\n",
      "Epoch   3 Batch  190/269 - Train Accuracy: 0.9518, Validation Accuracy: 0.9521, Loss: 0.0337\n",
      "Epoch   3 Batch  200/269 - Train Accuracy: 0.9520, Validation Accuracy: 0.9476, Loss: 0.0327\n",
      "Epoch   3 Batch  210/269 - Train Accuracy: 0.9470, Validation Accuracy: 0.9401, Loss: 0.0349\n",
      "Epoch   3 Batch  220/269 - Train Accuracy: 0.9507, Validation Accuracy: 0.9482, Loss: 0.0357\n",
      "Epoch   3 Batch  230/269 - Train Accuracy: 0.9508, Validation Accuracy: 0.9462, Loss: 0.0331\n",
      "Epoch   3 Batch  240/269 - Train Accuracy: 0.9514, Validation Accuracy: 0.9545, Loss: 0.0287\n",
      "Epoch   3 Batch  250/269 - Train Accuracy: 0.9469, Validation Accuracy: 0.9524, Loss: 0.0323\n",
      "Epoch   3 Batch  260/269 - Train Accuracy: 0.9563, Validation Accuracy: 0.9536, Loss: 0.0381\n",
      "Epoch   4 Batch   10/269 - Train Accuracy: 0.9601, Validation Accuracy: 0.9522, Loss: 0.0273\n",
      "Epoch   4 Batch   20/269 - Train Accuracy: 0.9577, Validation Accuracy: 0.9523, Loss: 0.0294\n",
      "Epoch   4 Batch   30/269 - Train Accuracy: 0.9616, Validation Accuracy: 0.9524, Loss: 0.0304\n",
      "Epoch   4 Batch   40/269 - Train Accuracy: 0.9426, Validation Accuracy: 0.9528, Loss: 0.0342\n",
      "Epoch   4 Batch   50/269 - Train Accuracy: 0.9482, Validation Accuracy: 0.9517, Loss: 0.0355\n",
      "Epoch   4 Batch   60/269 - Train Accuracy: 0.9635, Validation Accuracy: 0.9594, Loss: 0.0284\n",
      "Epoch   4 Batch   70/269 - Train Accuracy: 0.9551, Validation Accuracy: 0.9472, Loss: 0.0289\n",
      "Epoch   4 Batch   80/269 - Train Accuracy: 0.9645, Validation Accuracy: 0.9545, Loss: 0.0271\n",
      "Epoch   4 Batch   90/269 - Train Accuracy: 0.9614, Validation Accuracy: 0.9521, Loss: 0.0307\n",
      "Epoch   4 Batch  100/269 - Train Accuracy: 0.9609, Validation Accuracy: 0.9580, Loss: 0.0288\n",
      "Epoch   4 Batch  110/269 - Train Accuracy: 0.9459, Validation Accuracy: 0.9513, Loss: 0.0259\n",
      "Epoch   4 Batch  120/269 - Train Accuracy: 0.9603, Validation Accuracy: 0.9557, Loss: 0.0288\n",
      "Epoch   4 Batch  130/269 - Train Accuracy: 0.9629, Validation Accuracy: 0.9579, Loss: 0.0283\n",
      "Epoch   4 Batch  140/269 - Train Accuracy: 0.9631, Validation Accuracy: 0.9542, Loss: 0.0283\n",
      "Epoch   4 Batch  150/269 - Train Accuracy: 0.9712, Validation Accuracy: 0.9615, Loss: 0.0247\n",
      "Epoch   4 Batch  160/269 - Train Accuracy: 0.9584, Validation Accuracy: 0.9515, Loss: 0.0251\n",
      "Epoch   4 Batch  170/269 - Train Accuracy: 0.9580, Validation Accuracy: 0.9587, Loss: 0.0252\n",
      "Epoch   4 Batch  180/269 - Train Accuracy: 0.9676, Validation Accuracy: 0.9620, Loss: 0.0225\n",
      "Epoch   4 Batch  190/269 - Train Accuracy: 0.9642, Validation Accuracy: 0.9611, Loss: 0.0250\n",
      "Epoch   4 Batch  200/269 - Train Accuracy: 0.9733, Validation Accuracy: 0.9592, Loss: 0.0206\n",
      "Epoch   4 Batch  210/269 - Train Accuracy: 0.9648, Validation Accuracy: 0.9600, Loss: 0.0210\n",
      "Epoch   4 Batch  220/269 - Train Accuracy: 0.9595, Validation Accuracy: 0.9602, Loss: 0.0225\n",
      "Epoch   4 Batch  230/269 - Train Accuracy: 0.9740, Validation Accuracy: 0.9615, Loss: 0.0214\n",
      "Epoch   4 Batch  240/269 - Train Accuracy: 0.9710, Validation Accuracy: 0.9605, Loss: 0.0200\n",
      "Epoch   4 Batch  250/269 - Train Accuracy: 0.9640, Validation Accuracy: 0.9632, Loss: 0.0230\n",
      "Epoch   4 Batch  260/269 - Train Accuracy: 0.9650, Validation Accuracy: 0.9643, Loss: 0.0254\n",
      "Epoch   5 Batch   10/269 - Train Accuracy: 0.9753, Validation Accuracy: 0.9660, Loss: 0.0187\n",
      "Epoch   5 Batch   20/269 - Train Accuracy: 0.9711, Validation Accuracy: 0.9620, Loss: 0.0202\n",
      "Epoch   5 Batch   30/269 - Train Accuracy: 0.9691, Validation Accuracy: 0.9647, Loss: 0.0224\n",
      "Epoch   5 Batch   40/269 - Train Accuracy: 0.9620, Validation Accuracy: 0.9674, Loss: 0.0241\n",
      "Epoch   5 Batch   50/269 - Train Accuracy: 0.9612, Validation Accuracy: 0.9606, Loss: 0.0270\n",
      "Epoch   5 Batch   60/269 - Train Accuracy: 0.9713, Validation Accuracy: 0.9667, Loss: 0.0219\n",
      "Epoch   5 Batch   70/269 - Train Accuracy: 0.9699, Validation Accuracy: 0.9551, Loss: 0.0210\n",
      "Epoch   5 Batch   80/269 - Train Accuracy: 0.9700, Validation Accuracy: 0.9510, Loss: 0.0190\n",
      "Epoch   5 Batch   90/269 - Train Accuracy: 0.9745, Validation Accuracy: 0.9595, Loss: 0.0220\n",
      "Epoch   5 Batch  100/269 - Train Accuracy: 0.9686, Validation Accuracy: 0.9688, Loss: 0.0200\n",
      "Epoch   5 Batch  110/269 - Train Accuracy: 0.9656, Validation Accuracy: 0.9563, Loss: 0.0184\n",
      "Epoch   5 Batch  120/269 - Train Accuracy: 0.9662, Validation Accuracy: 0.9644, Loss: 0.0198\n",
      "Epoch   5 Batch  130/269 - Train Accuracy: 0.9736, Validation Accuracy: 0.9512, Loss: 0.0212\n",
      "Epoch   5 Batch  140/269 - Train Accuracy: 0.9667, Validation Accuracy: 0.9659, Loss: 0.0201\n",
      "Epoch   5 Batch  150/269 - Train Accuracy: 0.9763, Validation Accuracy: 0.9636, Loss: 0.0193\n",
      "Epoch   5 Batch  160/269 - Train Accuracy: 0.9768, Validation Accuracy: 0.9719, Loss: 0.0174\n",
      "Epoch   5 Batch  170/269 - Train Accuracy: 0.9696, Validation Accuracy: 0.9720, Loss: 0.0165\n",
      "Epoch   5 Batch  180/269 - Train Accuracy: 0.9770, Validation Accuracy: 0.9619, Loss: 0.0161\n",
      "Epoch   5 Batch  190/269 - Train Accuracy: 0.9752, Validation Accuracy: 0.9640, Loss: 0.0180\n",
      "Epoch   5 Batch  200/269 - Train Accuracy: 0.9860, Validation Accuracy: 0.9568, Loss: 0.0152\n",
      "Epoch   5 Batch  210/269 - Train Accuracy: 0.9752, Validation Accuracy: 0.9566, Loss: 0.0161\n",
      "Epoch   5 Batch  220/269 - Train Accuracy: 0.9722, Validation Accuracy: 0.9656, Loss: 0.0165\n",
      "Epoch   5 Batch  230/269 - Train Accuracy: 0.9745, Validation Accuracy: 0.9644, Loss: 0.0169\n",
      "Epoch   5 Batch  240/269 - Train Accuracy: 0.9772, Validation Accuracy: 0.9623, Loss: 0.0157\n",
      "Epoch   5 Batch  250/269 - Train Accuracy: 0.9802, Validation Accuracy: 0.9674, Loss: 0.0176\n",
      "Epoch   5 Batch  260/269 - Train Accuracy: 0.9829, Validation Accuracy: 0.9681, Loss: 0.0198\n",
      "Epoch   6 Batch   10/269 - Train Accuracy: 0.9854, Validation Accuracy: 0.9718, Loss: 0.0146\n",
      "Epoch   6 Batch   20/269 - Train Accuracy: 0.9757, Validation Accuracy: 0.9655, Loss: 0.0154\n",
      "Epoch   6 Batch   30/269 - Train Accuracy: 0.9744, Validation Accuracy: 0.9647, Loss: 0.0174\n",
      "Epoch   6 Batch   40/269 - Train Accuracy: 0.9688, Validation Accuracy: 0.9687, Loss: 0.0188\n",
      "Epoch   6 Batch   50/269 - Train Accuracy: 0.9665, Validation Accuracy: 0.9695, Loss: 0.0223\n",
      "Epoch   6 Batch   60/269 - Train Accuracy: 0.9757, Validation Accuracy: 0.9678, Loss: 0.0175\n",
      "Epoch   6 Batch   70/269 - Train Accuracy: 0.9794, Validation Accuracy: 0.9661, Loss: 0.0160\n",
      "Epoch   6 Batch   80/269 - Train Accuracy: 0.9725, Validation Accuracy: 0.9577, Loss: 0.0149\n",
      "Epoch   6 Batch   90/269 - Train Accuracy: 0.9744, Validation Accuracy: 0.9652, Loss: 0.0173\n",
      "Epoch   6 Batch  100/269 - Train Accuracy: 0.9781, Validation Accuracy: 0.9677, Loss: 0.0160\n",
      "Epoch   6 Batch  110/269 - Train Accuracy: 0.9735, Validation Accuracy: 0.9651, Loss: 0.0132\n",
      "Epoch   6 Batch  120/269 - Train Accuracy: 0.9756, Validation Accuracy: 0.9621, Loss: 0.0154\n",
      "Epoch   6 Batch  130/269 - Train Accuracy: 0.9756, Validation Accuracy: 0.9577, Loss: 0.0161\n",
      "Epoch   6 Batch  140/269 - Train Accuracy: 0.9804, Validation Accuracy: 0.9731, Loss: 0.0160\n",
      "Epoch   6 Batch  150/269 - Train Accuracy: 0.9802, Validation Accuracy: 0.9707, Loss: 0.0152\n",
      "Epoch   6 Batch  160/269 - Train Accuracy: 0.9802, Validation Accuracy: 0.9745, Loss: 0.0136\n",
      "Epoch   6 Batch  170/269 - Train Accuracy: 0.9749, Validation Accuracy: 0.9731, Loss: 0.0134\n",
      "Epoch   6 Batch  180/269 - Train Accuracy: 0.9824, Validation Accuracy: 0.9669, Loss: 0.0136\n",
      "Epoch   6 Batch  190/269 - Train Accuracy: 0.9802, Validation Accuracy: 0.9693, Loss: 0.0140\n",
      "Epoch   6 Batch  200/269 - Train Accuracy: 0.9901, Validation Accuracy: 0.9686, Loss: 0.0114\n",
      "Epoch   6 Batch  210/269 - Train Accuracy: 0.9821, Validation Accuracy: 0.9667, Loss: 0.0117\n",
      "Epoch   6 Batch  220/269 - Train Accuracy: 0.9775, Validation Accuracy: 0.9719, Loss: 0.0134\n"
     ]
    },
    {
     "name": "stdout",
     "output_type": "stream",
     "text": [
      "Epoch   6 Batch  230/269 - Train Accuracy: 0.9813, Validation Accuracy: 0.9652, Loss: 0.0138\n",
      "Epoch   6 Batch  240/269 - Train Accuracy: 0.9763, Validation Accuracy: 0.9620, Loss: 0.0130\n",
      "Epoch   6 Batch  250/269 - Train Accuracy: 0.9800, Validation Accuracy: 0.9717, Loss: 0.0140\n",
      "Epoch   6 Batch  260/269 - Train Accuracy: 0.9793, Validation Accuracy: 0.9613, Loss: 0.0149\n",
      "Model Trained and Saved\n"
     ]
    }
   ],
   "source": [
    "\"\"\"\n",
    "DON'T MODIFY ANYTHING IN THIS CELL\n",
    "\"\"\"\n",
    "def get_accuracy(target, logits):\n",
    "    \"\"\"\n",
    "    Calculate accuracy\n",
    "    \"\"\"\n",
    "    max_seq = max(target.shape[1], logits.shape[1])\n",
    "    if max_seq - target.shape[1]:\n",
    "        target = np.pad(\n",
    "            target,\n",
    "            [(0,0),(0,max_seq - target.shape[1])],\n",
    "            'constant')\n",
    "    if max_seq - logits.shape[1]:\n",
    "        logits = np.pad(\n",
    "            logits,\n",
    "            [(0,0),(0,max_seq - logits.shape[1])],\n",
    "            'constant')\n",
    "\n",
    "    return np.mean(np.equal(target, logits))\n",
    "\n",
    "# Split data to training and validation sets\n",
    "train_source = source_int_text[batch_size:]\n",
    "train_target = target_int_text[batch_size:]\n",
    "valid_source = source_int_text[:batch_size]\n",
    "valid_target = target_int_text[:batch_size]\n",
    "(valid_sources_batch, valid_targets_batch, valid_sources_lengths, valid_targets_lengths ) = next(get_batches(valid_source,\n",
    "                                                                                                             valid_target,\n",
    "                                                                                                             batch_size,\n",
    "                                                                                                             source_vocab_to_int['<PAD>'],\n",
    "                                                                                                             target_vocab_to_int['<PAD>']))                                                                                                  \n",
    "with tf.Session(graph=train_graph) as sess:\n",
    "    sess.run(tf.global_variables_initializer())\n",
    "\n",
    "    for epoch_i in range(epochs):\n",
    "        for batch_i, (source_batch, target_batch, sources_lengths, targets_lengths) in enumerate(\n",
    "                get_batches(train_source, train_target, batch_size,\n",
    "                            source_vocab_to_int['<PAD>'],\n",
    "                            target_vocab_to_int['<PAD>'])):\n",
    "\n",
    "            _, loss = sess.run(\n",
    "                [train_op, cost],\n",
    "                {input_data: source_batch,\n",
    "                 targets: target_batch,\n",
    "                 lr: learning_rate,\n",
    "                 target_sequence_length: targets_lengths,\n",
    "                 source_sequence_length: sources_lengths,\n",
    "                 keep_prob: keep_probability})\n",
    "\n",
    "\n",
    "            if batch_i % display_step == 0 and batch_i > 0:\n",
    "\n",
    "\n",
    "                batch_train_logits = sess.run(\n",
    "                    inference_logits,\n",
    "                    {input_data: source_batch,\n",
    "                     source_sequence_length: sources_lengths,\n",
    "                     target_sequence_length: targets_lengths,\n",
    "                     keep_prob: 1.0})\n",
    "\n",
    "\n",
    "                batch_valid_logits = sess.run(\n",
    "                    inference_logits,\n",
    "                    {input_data: valid_sources_batch,\n",
    "                     source_sequence_length: valid_sources_lengths,\n",
    "                     target_sequence_length: valid_targets_lengths,\n",
    "                     keep_prob: 1.0})\n",
    "\n",
    "                train_acc = get_accuracy(target_batch, batch_train_logits)\n",
    "\n",
    "                valid_acc = get_accuracy(valid_targets_batch, batch_valid_logits)\n",
    "\n",
    "                print('Epoch {:>3} Batch {:>4}/{} - Train Accuracy: {:>6.4f}, Validation Accuracy: {:>6.4f}, Loss: {:>6.4f}'\n",
    "                      .format(epoch_i, batch_i, len(source_int_text) // batch_size, train_acc, valid_acc, loss))\n",
    "\n",
    "    # Save Model\n",
    "    saver = tf.train.Saver()\n",
    "    saver.save(sess, save_path)\n",
    "    print('Model Trained and Saved')"
   ]
  },
  {
   "cell_type": "markdown",
   "metadata": {},
   "source": [
    "### Save Parameters\n",
    "Save the `batch_size` and `save_path` parameters for inference."
   ]
  },
  {
   "cell_type": "code",
   "execution_count": 61,
   "metadata": {
    "collapsed": true
   },
   "outputs": [],
   "source": [
    "\"\"\"\n",
    "DON'T MODIFY ANYTHING IN THIS CELL\n",
    "\"\"\"\n",
    "# Save parameters for checkpoint\n",
    "helper.save_params(save_path)"
   ]
  },
  {
   "cell_type": "markdown",
   "metadata": {},
   "source": [
    "# Checkpoint"
   ]
  },
  {
   "cell_type": "code",
   "execution_count": 62,
   "metadata": {
    "collapsed": true
   },
   "outputs": [],
   "source": [
    "\"\"\"\n",
    "DON'T MODIFY ANYTHING IN THIS CELL\n",
    "\"\"\"\n",
    "import tensorflow as tf\n",
    "import numpy as np\n",
    "import helper\n",
    "import problem_unittests as tests\n",
    "\n",
    "_, (source_vocab_to_int, target_vocab_to_int), (source_int_to_vocab, target_int_to_vocab) = helper.load_preprocess()\n",
    "load_path = helper.load_params()"
   ]
  },
  {
   "cell_type": "markdown",
   "metadata": {},
   "source": [
    "## Sentence to Sequence\n",
    "To feed a sentence into the model for translation, you first need to preprocess it.  Implement the function `sentence_to_seq()` to preprocess new sentences.\n",
    "\n",
    "- Convert the sentence to lowercase\n",
    "- Convert words into ids using `vocab_to_int`\n",
    " - Convert words not in the vocabulary, to the `<UNK>` word id."
   ]
  },
  {
   "cell_type": "code",
   "execution_count": 63,
   "metadata": {},
   "outputs": [
    {
     "name": "stdout",
     "output_type": "stream",
     "text": [
      "Tests Passed\n"
     ]
    }
   ],
   "source": [
    "def sentence_to_seq(sentence, vocab_to_int):\n",
    "    \"\"\"\n",
    "    Convert a sentence to a sequence of ids\n",
    "    :param sentence: String\n",
    "    :param vocab_to_int: Dictionary to go from the words to an id\n",
    "    :return: List of word ids\n",
    "    \"\"\"\n",
    "    return [vocab_to_int.get(word, vocab_to_int['<UNK>'])for word in sentence.lower().split()]\n",
    "\n",
    "\n",
    "\"\"\"\n",
    "DON'T MODIFY ANYTHING IN THIS CELL THAT IS BELOW THIS LINE\n",
    "\"\"\"\n",
    "tests.test_sentence_to_seq(sentence_to_seq)"
   ]
  },
  {
   "cell_type": "markdown",
   "metadata": {},
   "source": [
    "## Translate\n",
    "This will translate `translate_sentence` from English to French."
   ]
  },
  {
   "cell_type": "code",
   "execution_count": 64,
   "metadata": {},
   "outputs": [
    {
     "name": "stdout",
     "output_type": "stream",
     "text": [
      "INFO:tensorflow:Restoring parameters from checkpoints/dev\n",
      "Input\n",
      "  Word Ids:      [186, 176, 67, 11, 177, 102, 174]\n",
      "  English Words: ['he', 'saw', 'a', 'old', 'yellow', 'truck', '.']\n",
      "\n",
      "Prediction\n",
      "  Word Ids:      [26, 318, 268, 38, 274, 72, 1]\n",
      "  French Words: il conduit un camion jaune . <EOS>\n"
     ]
    }
   ],
   "source": [
    "translate_sentence = 'he saw a old yellow truck .'\n",
    "\n",
    "\n",
    "\"\"\"\n",
    "DON'T MODIFY ANYTHING IN THIS CELL\n",
    "\"\"\"\n",
    "translate_sentence = sentence_to_seq(translate_sentence, source_vocab_to_int)\n",
    "\n",
    "loaded_graph = tf.Graph()\n",
    "with tf.Session(graph=loaded_graph) as sess:\n",
    "    # Load saved model\n",
    "    loader = tf.train.import_meta_graph(load_path + '.meta')\n",
    "    loader.restore(sess, load_path)\n",
    "\n",
    "    input_data = loaded_graph.get_tensor_by_name('input:0')\n",
    "    logits = loaded_graph.get_tensor_by_name('predictions:0')\n",
    "    target_sequence_length = loaded_graph.get_tensor_by_name('target_sequence_length:0')\n",
    "    source_sequence_length = loaded_graph.get_tensor_by_name('source_sequence_length:0')\n",
    "    keep_prob = loaded_graph.get_tensor_by_name('keep_prob:0')\n",
    "\n",
    "    translate_logits = sess.run(logits, {input_data: [translate_sentence]*batch_size,\n",
    "                                         target_sequence_length: [len(translate_sentence)*2]*batch_size,\n",
    "                                         source_sequence_length: [len(translate_sentence)]*batch_size,\n",
    "                                         keep_prob: 1.0})[0]\n",
    "\n",
    "print('Input')\n",
    "print('  Word Ids:      {}'.format([i for i in translate_sentence]))\n",
    "print('  English Words: {}'.format([source_int_to_vocab[i] for i in translate_sentence]))\n",
    "\n",
    "print('\\nPrediction')\n",
    "print('  Word Ids:      {}'.format([i for i in translate_logits]))\n",
    "print('  French Words: {}'.format(\" \".join([target_int_to_vocab[i] for i in translate_logits])))\n"
   ]
  },
  {
   "cell_type": "markdown",
   "metadata": {},
   "source": [
    "## Imperfect Translation\n",
    "You might notice that some sentences translate better than others.  Since the dataset you're using only has a vocabulary of 227 English words of the thousands that you use, you're only going to see good results using these words.  For this project, you don't need a perfect translation. However, if you want to create a better translation model, you'll need better data.\n",
    "\n",
    "You can train on the [WMT10 French-English corpus](http://www.statmt.org/wmt10/training-giga-fren.tar).  This dataset has more vocabulary and richer in topics discussed.  However, this will take you days to train, so make sure you've a GPU and the neural network is performing well on dataset we provided.  Just make sure you play with the WMT10 corpus after you've submitted this project.\n",
    "## Submitting This Project\n",
    "When submitting this project, make sure to run all the cells before saving the notebook. Save the notebook file as \"dlnd_language_translation.ipynb\" and save it as a HTML file under \"File\" -> \"Download as\". Include the \"helper.py\" and \"problem_unittests.py\" files in your submission."
   ]
  }
 ],
 "metadata": {
  "anaconda-cloud": {},
  "kernelspec": {
   "display_name": "Python 3",
   "language": "python",
   "name": "python3"
  },
  "language_info": {
   "codemirror_mode": {
    "name": "ipython",
    "version": 3
   },
   "file_extension": ".py",
   "mimetype": "text/x-python",
   "name": "python",
   "nbconvert_exporter": "python",
   "pygments_lexer": "ipython3",
   "version": "3.6.1"
  }
 },
 "nbformat": 4,
 "nbformat_minor": 1
}
